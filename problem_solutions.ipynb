{
 "cells": [
  {
   "cell_type": "markdown",
   "metadata": {},
   "source": [
    "## 🌟 Project Overview\n",
    "A collection of my solutions to [Project Euler](https://projecteuler.net) problems, focused on:\n",
    "- Mathematical problem-solving\n",
    "- Algorithm optimization\n",
    "- Cross-language implementations (Python, Julia, etc.)"
   ]
  },
  {
   "cell_type": "markdown",
   "metadata": {},
   "source": [
    "# Project Euler Problem 1: Multiples of 3 or 5"
   ]
  },
  {
   "cell_type": "markdown",
   "metadata": {},
   "source": [
    "**Problem Statement:**  \n",
    "\n",
    "If we list all the natural numbers below 10 that are multiples of 3 or 5, we get 3, 5, 6, and 9. The sum of these multiples is 23.  \n",
    "\n",
    "**Find the sum of all multiples of 3 or 5 below 1000.**\n",
    "\n",
    "## 📊 Brute Force Approach\n",
    "\n",
    "### Initial Thoughts:\n",
    "- Iterate through all numbers below 1000\n",
    "- Check if divisible by 3 or 5\n",
    "- Sum the qualifying numbers"
   ]
  },
  {
   "cell_type": "code",
   "execution_count": 2,
   "metadata": {},
   "outputs": [
    {
     "name": "stdout",
     "output_type": "stream",
     "text": [
      "233168\n"
     ]
    }
   ],
   "source": [
    "def brute_force(limit=1000):\n",
    "    total = 0\n",
    "    for num in range(limit):\n",
    "        if num % 3 == 0 or num % 5 == 0:\n",
    "            total += num\n",
    "    return total\n",
    "\n",
    "print(brute_force())"
   ]
  },
  {
   "cell_type": "markdown",
   "metadata": {},
   "source": [
    "## Mathematical Solution to Project Euler Problem 1\n",
    "\n",
    "## Problem Statement\n",
    "Find the sum of all natural numbers below 1000 that are multiples of 3 or 5.\n",
    "\n",
    "## 1. Understanding the Problem\n",
    "We need to compute:\n",
    "$$\n",
    "S = \\sum_{\\substack{n=1 \\\\ 3 \\mid n \\text{ or } 5 \\mid n}}^{999} n\n",
    "$$\n",
    "\n",
    "## 2. Brute Force Summation\n",
    "The simplest approach is linear summation:\n",
    "\n",
    "$$\n",
    "S = \\sum_{n=1}^{999} n \\cdot \\mathbb{I}(3 \\mid n \\lor 5 \\mid n)\n",
    "$$\n",
    "\n",
    "Where $\\mathbb{I}$ is the indicator function (1 if true, 0 otherwise).\n",
    "\n",
    "**Computational Complexity:** $O(n)$\n",
    "\n",
    "## 3. Mathematical Optimization\n",
    "\n",
    "### 3.1 Sum of Multiples\n",
    "For any positive integer $k$, the sum of multiples of $k$ below 1000 is:\n",
    "\n",
    "$$\n",
    "S_k = \\sum_{m=1}^{p} km = k \\sum_{m=1}^{p} m = k \\cdot \\frac{p(p+1)}{2}\n",
    "$$\n",
    "\n",
    "Where $p = \\left\\lfloor \\frac{999}{k} \\right\\rfloor$\n",
    "\n",
    "### 3.2 Inclusion-Exclusion Principle\n",
    "The total sum $S$ of multiples of 3 or 5 equals:\n",
    "\n",
    "$$\n",
    "S = S_3 + S_5 - S_{15}\n",
    "$$\n",
    "\n",
    "This accounts for double-counting numbers divisible by both 3 and 5 (i.e., multiples of 15).\n",
    "\n",
    "### 3.3 Calculation Steps\n",
    "\n",
    "#### a) Multiples of 3\n",
    "- Largest multiple: $3 \\times 333 = 999$\n",
    "- Number of terms: $p_3 = 333$\n",
    "- Sum:\n",
    "  $$\n",
    "  S_3 = 3 \\times \\frac{333 \\times 334}{2} = 166833\n",
    "  $$\n",
    "\n",
    "#### b) Multiples of 5\n",
    "- Largest multiple: $5 \\times 199 = 995$\n",
    "- Number of terms: $p_5 = 199$\n",
    "- Sum:\n",
    "  $$\n",
    "  S_5 = 5 \\times \\frac{199 \\times 200}{2} = 99500\n",
    "  $$\n",
    "\n",
    "#### c) Multiples of 15 (Correction Term)\n",
    "- Largest multiple: $15 \\times 66 = 990$\n",
    "- Number of terms: $p_{15} = 66$\n",
    "- Sum:\n",
    "  $$\n",
    "  S_{15} = 15 \\times \\frac{66 \\times 67}{2} = 33165\n",
    "  $$\n",
    "\n",
    "### 3.4 Final Computation\n",
    "$$\n",
    "S = S_3 + S_5 - S_{15} = 166833 + 99500 - 33165 = 233168\n",
    "$$\n",
    "\n",
    "## 4. General Solution Formula\n",
    "For an arbitrary limit $L$:\n",
    "\n",
    "$$\n",
    "S(L) = \\left(3 \\cdot \\frac{p_3(p_3+1)}{2}\\right) + \\left(5 \\cdot \\frac{p_5(p_5+1)}{2}\\right) - \\left(15 \\cdot \\frac{p_{15}(p_{15}+1)}{2}\\right)\n",
    "$$\n",
    "\n",
    "Where:\n",
    "$$\n",
    "p_k = \\left\\lfloor \\frac{L-1}{k} \\right\\rfloor\n",
    "$$\n",
    "\n",
    "## 5. Mathematical Insights\n",
    "1. **Arithmetic Series:** The solution leverages the formula for the sum of the first $n$ natural numbers:\n",
    "   $$\n",
    "   \\sum_{i=1}^n i = \\frac{n(n+1)}{2}\n",
    "   $$\n",
    "\n",
    "2. **Divisibility:** The floor function efficiently counts multiples:\n",
    "   $$\n",
    "   \\text{Multiples of } k \\text{ below } L = \\left\\lfloor \\frac{L-1}{k} \\right\\rfloor\n",
    "   $$\n",
    "\n",
    "3. **Set Theory:** The inclusion-exclusion principle ensures correct counting:\n",
    "   $$\n",
    "   |A \\cup B| = |A| + |B| - |A \\cap B|\n",
    "   $$\n",
    "\n",
    "## 6. Computational Complexity\n",
    "- **Brute Force:** $O(n)$\n",
    "- **Mathematical Method:** $O(1)$ (constant time, as it uses closed-form formulas)\n",
    "\n",
    "## 7. Verification\n",
    "For $L = 10$:\n",
    "- $S_3 = 3 + 6 + 9 = 18$\n",
    "- $S_5 = 5$\n",
    "- $S_{15} = 0$\n",
    "- $S = 18 + 5 - 0 = 23$ ✓ (matches given example)"
   ]
  },
  {
   "cell_type": "code",
   "execution_count": 7,
   "metadata": {},
   "outputs": [
    {
     "name": "stdout",
     "output_type": "stream",
     "text": [
      "233168\n"
     ]
    }
   ],
   "source": [
    "def mathematical(limit=1000):\n",
    "    def sum_multiples(k, limit):\n",
    "        p = (limit - 1) // k\n",
    "        return k * p * (p + 1) // 2\n",
    "    return sum_multiples(3, limit) + sum_multiples(5, limit) - sum_multiples(15, limit)\n",
    "\n",
    "result = mathematical(limit=1000)\n",
    "print(result) "
   ]
  },
  {
   "cell_type": "markdown",
   "metadata": {},
   "source": [
    "## Benchmark\n",
    "\n",
    "We can now proceed to create a small benchmark between the two previous solutions:"
   ]
  },
  {
   "cell_type": "code",
   "execution_count": 12,
   "metadata": {},
   "outputs": [
    {
     "name": "stdout",
     "output_type": "stream",
     "text": [
      "Running benchmarks with tqdm...\n"
     ]
    },
    {
     "name": "stderr",
     "output_type": "stream",
     "text": [
      "Benchmarking brute_force: 100%|██████████| 5/5 [02:19<00:00, 27.89s/size]\n",
      "Benchmarking mathematical: 100%|██████████| 5/5 [00:00<00:00, 656.51size/s]\n"
     ]
    },
    {
     "name": "stdout",
     "output_type": "stream",
     "text": [
      "\n",
      "Results:\n",
      "      Size   Brute (μs)    Math (μs)    Speedup\n",
      "--------------------------------------------------\n",
      "        10         0.59         0.34        1.7x\n",
      "       100         5.95         0.30       19.8x\n",
      "     1,000        57.00         0.33      171.2x\n",
      "   100,000      4458.32         0.38    11888.8x\n",
      "10,000,000    448854.00         0.42  1056127.7x\n"
     ]
    },
    {
     "data": {
      "image/png": "[encoded data removed]",
      "text/plain": [
       "<Figure size 1000x500 with 1 Axes>"
      ]
     },
     "metadata": {},
     "output_type": "display_data"
    }
   ],
   "source": [
    "# Benchmarking with tqdm progress bars\n",
    "from tqdm import tqdm\n",
    "import timeit\n",
    "import matplotlib.pyplot as plt\n",
    "import numpy as np\n",
    "\n",
    "\n",
    "def benchmark_with_progress(func, sizes, repeats=1000):\n",
    "    \"\"\"Benchmark with tqdm progress bars\"\"\"\n",
    "    times = []\n",
    "    for n in tqdm(sizes, desc=f'Benchmarking {func.__name__}', unit='size'):\n",
    "        stmt = f'{func.__name__}({n})'\n",
    "        setup = f'from __main__ import {func.__name__}'\n",
    "        timer = timeit.Timer(stmt, setup=setup)\n",
    "        # Minimum time with progress\n",
    "        with tqdm(total=3, leave=False, desc=f'n={n}', unit='repeat') as pbar:\n",
    "            times.append(min([timer.timeit(number=repeats) for _ in range(3)]) / repeats * 1e6)\n",
    "            pbar.update(3)\n",
    "    return times\n",
    "\n",
    "# ---- Parameters ----\n",
    "input_sizes = [10, 100, 1000, 10**5, 10**7]\n",
    "repeats = 100\n",
    "\n",
    "# ---- Run with Progress ----\n",
    "print(\"Running benchmarks with tqdm...\")\n",
    "bf_times = benchmark_with_progress(brute_force, input_sizes, repeats)\n",
    "math_times = benchmark_with_progress(mathematical, input_sizes, repeats)\n",
    "\n",
    "# ---- Results ----\n",
    "print(\"\\nResults:\")\n",
    "print(f\"{'Size':>10} {'Brute (μs)':>12} {'Math (μs)':>12} {'Speedup':>10}\")\n",
    "print(\"-\" * 50)\n",
    "for n, bf, math in zip(input_sizes, bf_times, math_times):\n",
    "    print(f\"{n:>10,} {bf:>12.2f} {math:>12.2f} {bf/math:>10.1f}x\")\n",
    "\n",
    "# ---- Visualization ----\n",
    "plt.figure(figsize=(10, 5))\n",
    "plt.plot(input_sizes, bf_times, 'r-', label='Brute Force')\n",
    "plt.plot(input_sizes, math_times, 'b-', label='Mathematical')\n",
    "plt.xscale('log')\n",
    "plt.yscale('log')\n",
    "plt.xlabel('Input Size')\n",
    "plt.ylabel('Time (μs)')\n",
    "plt.title('Performance Comparison with Progress Tracking')\n",
    "plt.legend()\n",
    "plt.grid(True)\n",
    "plt.show()"
   ]
  }
 ],
 "metadata": {
  "kernelspec": {
   "display_name": ".venv",
   "language": "python",
   "name": "python3"
  },
  "language_info": {
   "codemirror_mode": {
    "name": "ipython",
    "version": 3
   },
   "file_extension": ".py",
   "mimetype": "text/x-python",
   "name": "python",
   "nbconvert_exporter": "python",
   "pygments_lexer": "ipython3",
   "version": "3.11.4"
  }
 },
 "nbformat": 4,
 "nbformat_minor": 2
}
